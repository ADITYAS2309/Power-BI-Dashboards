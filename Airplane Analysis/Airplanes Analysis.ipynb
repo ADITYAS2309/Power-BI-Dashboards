{
 "cells": [
  {
   "cell_type": "markdown",
   "id": "899b1c2e-e1f8-4483-865a-4317c1da653d",
   "metadata": {},
   "source": [
    "# Data Pre-processing for Airline Analysis using Pyspark"
   ]
  },
  {
   "cell_type": "code",
   "execution_count": 1,
   "id": "1cbe9d56-e4aa-44a2-90be-17f6edb791c7",
   "metadata": {},
   "outputs": [],
   "source": [
    "import pandas as pd\n",
    "import numpy as np\n",
    "\n",
    "import warnings\n",
    "warnings.filterwarnings('ignore') "
   ]
  },
  {
   "cell_type": "code",
   "execution_count": 2,
   "id": "cd186161-b6f2-4c0c-9214-f893a495b5fa",
   "metadata": {},
   "outputs": [],
   "source": [
    "from pyspark.sql import SparkSession\n",
    "\n",
    "spark = SparkSession.builder.appName('AirlinesProject').getOrCreate()"
   ]
  },
  {
   "cell_type": "code",
   "execution_count": 3,
   "id": "914f618c-f09b-43f1-9d44-89787d3fb47e",
   "metadata": {},
   "outputs": [],
   "source": [
    "from pyspark.sql.functions import when, avg, unix_timestamp, hour, minute"
   ]
  },
  {
   "cell_type": "code",
   "execution_count": 4,
   "id": "0e864451-c055-4d5c-a91d-bd3de514fd03",
   "metadata": {},
   "outputs": [],
   "source": [
    "data = spark.read.csv('flights.csv', header = True, inferSchema = True)"
   ]
  },
  {
   "cell_type": "code",
   "execution_count": 5,
   "id": "5d784658-3c27-4ba4-be09-5c3e9bad0c2a",
   "metadata": {},
   "outputs": [
    {
     "name": "stdout",
     "output_type": "stream",
     "text": [
      "+----------+--------------------+--------------------+------------+--------+---------+------+-------------------+----+----------+------------+--------+---------+--------+----------+---------+-------+------------+--------+---------+---------+-----------------+--------+----------------+------------+--------+--------+-----------------+-----------------+-------------+------------------+-----------------------+\n",
      "|   FL_DATE|             AIRLINE|         AIRLINE_DOT|AIRLINE_CODE|DOT_CODE|FL_NUMBER|ORIGIN|        ORIGIN_CITY|DEST| DEST_CITY|CRS_DEP_TIME|DEP_TIME|DEP_DELAY|TAXI_OUT|WHEELS_OFF|WHEELS_ON|TAXI_IN|CRS_ARR_TIME|ARR_TIME|ARR_DELAY|CANCELLED|CANCELLATION_CODE|DIVERTED|CRS_ELAPSED_TIME|ELAPSED_TIME|AIR_TIME|DISTANCE|DELAY_DUE_CARRIER|DELAY_DUE_WEATHER|DELAY_DUE_NAS|DELAY_DUE_SECURITY|DELAY_DUE_LATE_AIRCRAFT|\n",
      "+----------+--------------------+--------------------+------------+--------+---------+------+-------------------+----+----------+------------+--------+---------+--------+----------+---------+-------+------------+--------+---------+---------+-----------------+--------+----------------+------------+--------+--------+-----------------+-----------------+-------------+------------------+-----------------------+\n",
      "|2019-01-09|United Air Lines ...|United Air Lines ...|          UA|   19977|     1562|   FLL|Fort Lauderdale, FL| EWR|Newark, NJ|        1155|  1151.0|     -4.0|    19.0|    1210.0|   1443.0|    4.0|        1501|  1447.0|    -14.0|      0.0|             NULL|     0.0|           186.0|       176.0|   153.0|  1065.0|             NULL|             NULL|         NULL|              NULL|                   NULL|\n",
      "+----------+--------------------+--------------------+------------+--------+---------+------+-------------------+----+----------+------------+--------+---------+--------+----------+---------+-------+------------+--------+---------+---------+-----------------+--------+----------------+------------+--------+--------+-----------------+-----------------+-------------+------------------+-----------------------+\n",
      "only showing top 1 row\n",
      "\n"
     ]
    }
   ],
   "source": [
    "data.show(1)"
   ]
  },
  {
   "cell_type": "code",
   "execution_count": 6,
   "id": "37d5813a-fbc7-481e-9528-4fdebb145f2f",
   "metadata": {
    "scrolled": true
   },
   "outputs": [
    {
     "name": "stdout",
     "output_type": "stream",
     "text": [
      "root\n",
      " |-- FL_DATE: date (nullable = true)\n",
      " |-- AIRLINE: string (nullable = true)\n",
      " |-- AIRLINE_DOT: string (nullable = true)\n",
      " |-- AIRLINE_CODE: string (nullable = true)\n",
      " |-- DOT_CODE: integer (nullable = true)\n",
      " |-- FL_NUMBER: integer (nullable = true)\n",
      " |-- ORIGIN: string (nullable = true)\n",
      " |-- ORIGIN_CITY: string (nullable = true)\n",
      " |-- DEST: string (nullable = true)\n",
      " |-- DEST_CITY: string (nullable = true)\n",
      " |-- CRS_DEP_TIME: integer (nullable = true)\n",
      " |-- DEP_TIME: double (nullable = true)\n",
      " |-- DEP_DELAY: double (nullable = true)\n",
      " |-- TAXI_OUT: double (nullable = true)\n",
      " |-- WHEELS_OFF: double (nullable = true)\n",
      " |-- WHEELS_ON: double (nullable = true)\n",
      " |-- TAXI_IN: double (nullable = true)\n",
      " |-- CRS_ARR_TIME: integer (nullable = true)\n",
      " |-- ARR_TIME: double (nullable = true)\n",
      " |-- ARR_DELAY: double (nullable = true)\n",
      " |-- CANCELLED: double (nullable = true)\n",
      " |-- CANCELLATION_CODE: string (nullable = true)\n",
      " |-- DIVERTED: double (nullable = true)\n",
      " |-- CRS_ELAPSED_TIME: double (nullable = true)\n",
      " |-- ELAPSED_TIME: double (nullable = true)\n",
      " |-- AIR_TIME: double (nullable = true)\n",
      " |-- DISTANCE: double (nullable = true)\n",
      " |-- DELAY_DUE_CARRIER: double (nullable = true)\n",
      " |-- DELAY_DUE_WEATHER: double (nullable = true)\n",
      " |-- DELAY_DUE_NAS: double (nullable = true)\n",
      " |-- DELAY_DUE_SECURITY: double (nullable = true)\n",
      " |-- DELAY_DUE_LATE_AIRCRAFT: double (nullable = true)\n",
      "\n"
     ]
    }
   ],
   "source": [
    "data.printSchema()"
   ]
  },
  {
   "cell_type": "code",
   "execution_count": 7,
   "id": "4a1592f4-c0be-42f4-abaf-2397883812cc",
   "metadata": {},
   "outputs": [
    {
     "name": "stdout",
     "output_type": "stream",
     "text": [
      "+-------+-------+-----------+------------+--------+---------+------+-----------+----+---------+------------+--------+---------+--------+----------+---------+-------+------------+--------+---------+---------+-----------------+--------+----------------+------------+--------+--------+-----------------+-----------------+-------------+------------------+-----------------------+\n",
      "|FL_DATE|AIRLINE|AIRLINE_DOT|AIRLINE_CODE|DOT_CODE|FL_NUMBER|ORIGIN|ORIGIN_CITY|DEST|DEST_CITY|CRS_DEP_TIME|DEP_TIME|DEP_DELAY|TAXI_OUT|WHEELS_OFF|WHEELS_ON|TAXI_IN|CRS_ARR_TIME|ARR_TIME|ARR_DELAY|CANCELLED|CANCELLATION_CODE|DIVERTED|CRS_ELAPSED_TIME|ELAPSED_TIME|AIR_TIME|DISTANCE|DELAY_DUE_CARRIER|DELAY_DUE_WEATHER|DELAY_DUE_NAS|DELAY_DUE_SECURITY|DELAY_DUE_LATE_AIRCRAFT|\n",
      "+-------+-------+-----------+------------+--------+---------+------+-----------+----+---------+------------+--------+---------+--------+----------+---------+-------+------------+--------+---------+---------+-----------------+--------+----------------+------------+--------+--------+-----------------+-----------------+-------------+------------------+-----------------------+\n",
      "|      0|      0|          0|           0|       0|        0|     0|          0|   0|        0|           0|   77615|    77644|   78806|     78806|    79944|  79944|           0|   79942|    86198|        0|          2920860|       0|              14|       86198|   86198|       0|          2466137|          2466137|      2466137|           2466137|                2466137|\n",
      "+-------+-------+-----------+------------+--------+---------+------+-----------+----+---------+------------+--------+---------+--------+----------+---------+-------+------------+--------+---------+---------+-----------------+--------+----------------+------------+--------+--------+-----------------+-----------------+-------------+------------------+-----------------------+\n",
      "\n"
     ]
    }
   ],
   "source": [
    "#Counting null in each\n",
    "from pyspark.sql.functions import when, count, col\n",
    "\n",
    "data.select([count(when(col(c).isNull(), c)).alias(c) for c in data.columns]).show()"
   ]
  },
  {
   "cell_type": "code",
   "execution_count": 8,
   "id": "61388e1a-d6b6-484f-a8e8-d7b6b4fdf52a",
   "metadata": {},
   "outputs": [],
   "source": [
    "#Replace NULLS in Delay columns with 0, since NULL would imply no delays\n",
    "df = data.na.fill(0,[ 'DELAY_DUE_CARRIER', 'DELAY_DUE_WEATHER','DELAY_DUE_NAS','DELAY_DUE_SECURITY','DELAY_DUE_LATE_AIRCRAFT'])"
   ]
  },
  {
   "cell_type": "code",
   "execution_count": 9,
   "id": "cd5045dc-e52c-4998-ae5e-0b736de9f850",
   "metadata": {},
   "outputs": [],
   "source": [
    "#Converting into time format of hh:mm\n",
    "from pyspark.sql.functions import substring, concat, floor, lit, date_format, to_timestamp, lpad\n",
    "df = df.withColumns({'CRS_DEP_TIME': \n",
    "                        concat(floor(df.CRS_DEP_TIME/100).cast('string'), \n",
    "                        lit(\":\"),\n",
    "                        lpad(substring(df.CRS_DEP_TIME, -2,2),2,'0')),\n",
    "                         \n",
    "                        'CRS_ARR_TIME' :\n",
    "                        concat(floor(df.CRS_ARR_TIME/100).cast('string'), \n",
    "                        lit(\":\"),\n",
    "                        lpad((df.CRS_ARR_TIME.cast('integer')%100).cast('string'),2,'0'))\n",
    "                         } \n",
    "                       )\n",
    "\n"
   ]
  },
  {
   "cell_type": "code",
   "execution_count": 10,
   "id": "101c961c-87f3-4fd2-a34f-6b05c523dfaf",
   "metadata": {},
   "outputs": [],
   "source": [
    "#Converting into time format of hh:mm\n",
    "from pyspark.sql.functions import substring, concat, floor, lit, date_format, to_timestamp\n",
    "df = df.withColumns({'DEP_TIME' :\n",
    "                        concat(floor(df.DEP_TIME/100).cast('string'), \n",
    "                        lit(\":\"),\n",
    "                        lpad((df.DEP_TIME.cast('integer')%100).cast('string'),2,'0')),\n",
    "                         \n",
    "                         'ARR_TIME' :\n",
    "                        concat(floor(df.ARR_TIME/100).cast('string'), \n",
    "                        lit(\":\"),\n",
    "                        lpad((df.ARR_TIME.cast('integer')%100).cast('string'),2,'0'))}\n",
    "                         )\n",
    "\n"
   ]
  },
  {
   "cell_type": "code",
   "execution_count": 11,
   "id": "0d432f28-7335-49f7-bb45-eddb780166c4",
   "metadata": {},
   "outputs": [],
   "source": [
    "#Explicitly mentioning reason for cancellation\n",
    "df = df.withColumn('CANCELLATION_CODE', when(df.CANCELLATION_CODE == 'A', 'Airline/Carrier').otherwise(\n",
    "            when(df.CANCELLATION_CODE == 'B', 'Weather').otherwise(\n",
    "                when(df.CANCELLATION_CODE == 'C', 'National Air System').otherwise(\n",
    "                    when(df.CANCELLATION_CODE == 'D', 'Security').otherwise('Departed')))))\n",
    "\n"
   ]
  },
  {
   "cell_type": "code",
   "execution_count": 12,
   "id": "2bf1f016-1a92-4b98-84ec-c356c920ccf4",
   "metadata": {},
   "outputs": [],
   "source": [
    "#Replacing null with 0 for cancelled flights\n",
    "colz = ['DEP_DELAY','TAXI_OUT','TAXI_IN', 'ARR_DELAY', 'CRS_ELAPSED_TIME', 'ELAPSED_TIME','AIR_TIME']\n",
    "for i in colz:\n",
    "    df = df.withColumn(i, when(df.CANCELLED == 1, 0).otherwise(df[i]))"
   ]
  },
  {
   "cell_type": "code",
   "execution_count": 15,
   "id": "fc212fa2-3b60-40db-8938-0b0ad3f45be1",
   "metadata": {},
   "outputs": [],
   "source": [
    "#Replace missing taxi time with average taxi times at respective airports\n",
    "avg_taxi_in = df.filter(df.TAXI_IN.isNotNull()).groupby('DEST').avg('TAXI_IN')\n",
    "df = df.join(avg_taxi_in, on = 'DEST', how = 'left') \n",
    "df = df.withColumn('TAXI_IN', when(df.TAXI_IN.isNull(), df['avg(TAXI_IN)']).otherwise(df.TAXI_IN))\n",
    "df = df.drop('avg(TAXI_IN)')"
   ]
  },
  {
   "cell_type": "code",
   "execution_count": 16,
   "id": "04b3c035-d3fb-45c5-a6bb-6ad8bd362120",
   "metadata": {},
   "outputs": [],
   "source": [
    "#replacing elapsed_time with avg_elapsed_time of respective flights operated by same airlines on same routes\n",
    "avg_elapsed_time = df.filter(df.CANCELLED == 0).groupby('FL_NUMBER', 'ORIGIN', 'DEST',\n",
    "                                        \"AIRLINE_CODE\", \"DOT_CODE\").agg(avg(\"ELAPSED_TIME\").alias('avg_elapsed_time'))\n",
    "df = df.join(avg_elapsed_time, \n",
    "             on = ['FL_NUMBER', 'ORIGIN', 'DEST', \"AIRLINE_CODE\", \"DOT_CODE\"],\n",
    "             how = 'left'\n",
    "            )\n",
    "df = df.withColumn('ELAPSED_TIME', when(df.ELAPSED_TIME.isNull(), df['avg_elapsed_time']).otherwise(df.ELAPSED_TIME))\n",
    "df = df.withColumn('ELAPSED_TIME', when(df.ELAPSED_TIME.isNull(), df['CRS_ELAPSED_TIME']).otherwise(df.ELAPSED_TIME))\n",
    "df = df.drop('avg_elapsed_time')"
   ]
  },
  {
   "cell_type": "code",
   "execution_count": 17,
   "id": "d70d56cc-9cbf-4788-abbb-7074d6dfefd5",
   "metadata": {},
   "outputs": [],
   "source": [
    "#Filling in null values for air_time with formula given below\n",
    "df = df.withColumn('AIR_TIME', when(df.AIR_TIME.isNull(), \n",
    "                                    df['CRS_ELAPSED_TIME'] - df['TAXI_IN'] - df['TAXI_OUT']\n",
    "                                   ).otherwise(df.AIR_TIME))"
   ]
  },
  {
   "cell_type": "code",
   "execution_count": 18,
   "id": "5e7f206a-5717-4cec-bf7c-04f101c70815",
   "metadata": {},
   "outputs": [],
   "source": [
    "#since only 800 entries for ARR time are null, replace them with crs_arr_time\n",
    "df = df.withColumn('ARR_TIME', when(df.ARR_TIME.isNull(), \n",
    "                                    df['CRS_ARR_TIME'] \n",
    "                                   ).otherwise(df.ARR_TIME))"
   ]
  },
  {
   "cell_type": "code",
   "execution_count": 19,
   "id": "72d52215-38cd-400d-ac74-ba63bbb6533e",
   "metadata": {},
   "outputs": [],
   "source": [
    "##Filling in null values for arrival and departure delay with formula below\n",
    "df = df.withColumn('ARR_DELAY', when(df.ARR_DELAY.isNull(),\n",
    "            (hour('ARR_TIME') - hour('CRS_ARR_TIME'))*60 + (minute('ARR_TIME') - minute('CRS_ARR_TIME'))\n",
    "             ).otherwise(df.ARR_DELAY))\n",
    "df = df.withColumn('ARR_DELAY', when(df.ARR_DELAY.isNull(),\n",
    "            (24 - hour('CRS_ARR_TIME'))*60 - minute('CRS_ARR_TIME')\n",
    "             ).otherwise(df.ARR_DELAY))"
   ]
  },
  {
   "cell_type": "code",
   "execution_count": 20,
   "id": "736bee09-bd88-44f8-8def-6cd13609c11d",
   "metadata": {},
   "outputs": [],
   "source": [
    "#COnverting into valid time format in order for power-bi to read without errors\n",
    "df = df.withColumn('DEP_TIME', when(df.DEP_TIME ==  \"24:00\", \"00:00\").otherwise(df.DEP_TIME))\n",
    "df = df.withColumn('ARR_TIME', when(df.ARR_TIME ==  \"24:00\", \"00:00\").otherwise(df.ARR_TIME))\n",
    "df = df.withColumn('CRS_ARR_TIME', when(df.CRS_ARR_TIME ==  \"24:00\", \"00:00\").otherwise(df.CRS_ARR_TIME))"
   ]
  },
  {
   "cell_type": "code",
   "execution_count": 21,
   "id": "18bd0978-bd6f-45f3-b604-e87a2b259125",
   "metadata": {},
   "outputs": [],
   "source": [
    "#Saving the cleaned data\n",
    "df.coalesce(1).write.mode(\"overwrite\").option(\"header\", \"true\").csv(\"cleaned_airplane_data.csv\")"
   ]
  },
  {
   "cell_type": "code",
   "execution_count": 1,
   "id": "8fc4f1fc-e00a-4d21-9d9f-98e415242c31",
   "metadata": {},
   "outputs": [],
   "source": [
    "#can check for null count again to confirm"
   ]
  },
  {
   "cell_type": "code",
   "execution_count": null,
   "id": "249f5ed6-4929-48fd-8cc2-ad82b5cf67e5",
   "metadata": {},
   "outputs": [],
   "source": []
  },
  {
   "cell_type": "code",
   "execution_count": null,
   "id": "224499d4-fd94-4601-a152-ef74925bf248",
   "metadata": {},
   "outputs": [],
   "source": []
  },
  {
   "cell_type": "code",
   "execution_count": null,
   "id": "517a3925-14c8-456d-861d-34c80e14d10c",
   "metadata": {},
   "outputs": [],
   "source": []
  }
 ],
 "metadata": {
  "kernelspec": {
   "display_name": "Python 3 (ipykernel)",
   "language": "python",
   "name": "python3"
  },
  "language_info": {
   "codemirror_mode": {
    "name": "ipython",
    "version": 3
   },
   "file_extension": ".py",
   "mimetype": "text/x-python",
   "name": "python",
   "nbconvert_exporter": "python",
   "pygments_lexer": "ipython3",
   "version": "3.12.4"
  }
 },
 "nbformat": 4,
 "nbformat_minor": 5
}
